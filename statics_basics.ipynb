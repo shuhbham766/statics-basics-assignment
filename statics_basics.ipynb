{
  "nbformat": 4,
  "nbformat_minor": 0,
  "metadata": {
    "colab": {
      "provenance": []
    },
    "kernelspec": {
      "name": "python3",
      "display_name": "Python 3"
    },
    "language_info": {
      "name": "python"
    }
  },
  "cells": [
    {
      "cell_type": "markdown",
      "source": [
        "# theory\n"
      ],
      "metadata": {
        "id": "yky_0Rbe3MaD"
      }
    },
    {
      "cell_type": "markdown",
      "source": [
        "#1.  What is statistics, and why is it important?"
      ],
      "metadata": {
        "id": "cPzc_Jw83PtX"
      }
    },
    {
      "cell_type": "markdown",
      "source": [
        "Statistics is the branch of mathematics that deals with collecting, organizing, analyzing, interpreting, and presenting data. It provides tools for making informed decisions in the face of uncertainty by using data.\n",
        "\n",
        "Why Statistics is Important:\n",
        "* Decision Making: Helps businesses, governments, and individuals make data-driven decisions.\n",
        "\n",
        "* Understanding Trends: Identifies patterns and trends in data (e.g., consumer behavior, stock prices).\n",
        "\n",
        "* Scientific Research: Essential in designing experiments, analyzing results, and validating hypotheses.\n",
        "\n",
        "* Prediction: Used in forecasting future outcomes (e.g., weather, sales, economic indicators).\n",
        "\n",
        "* Quality Control: Ensures product and service standards in manufacturing and industry.\n",
        "\n",
        "* Policy Formulation: Governments use statistical data to plan public services and allocate resources."
      ],
      "metadata": {
        "id": "UD6B3nXH3vqZ"
      }
    },
    {
      "cell_type": "markdown",
      "source": [
        "#2. What are the two main types of statistics?"
      ],
      "metadata": {
        "id": "Mwpt06Vi37Ur"
      }
    },
    {
      "cell_type": "markdown",
      "source": [
        "1. Descriptive Statistics :- This type summarizes and organizes data so it can be easily understood.\n",
        "\n",
        "Purpose: To describe the main features of a data set.\n",
        "\n",
        "Examples:\n",
        "\n",
        "* Mean (average), median, mode\n",
        "* Standard deviation, range, variance\n",
        "* Charts and graphs (bar charts, histograms, pie charts)\n",
        "\n",
        "2. Inferential Statistics\n",
        "This type makes predictions or inferences about a population based on a sample of data.\n",
        "\n",
        "Purpose: To draw conclusions and make predictions beyond the data at hand.\n",
        "\n",
        "Examples:\n",
        "\n",
        "* Hypothesis testing\n",
        "* Confidence intervals\n",
        "* Regression analysis\n",
        "* ANOVA (Analysis of Variance)"
      ],
      "metadata": {
        "id": "sKPWkAzj4HFC"
      }
    },
    {
      "cell_type": "markdown",
      "source": [
        "#3. What are descriptive statistics?"
      ],
      "metadata": {
        "id": "noR0mF_T4oX3"
      }
    },
    {
      "cell_type": "markdown",
      "source": [
        "Descriptive Statistics :- This type summarizes and organizes data so it can be easily understood.\n",
        "\n",
        "Purpose: To describe the main features of a data set.\n",
        "\n",
        "Examples:\n",
        "\n",
        "* Mean (average), median, mode\n",
        "* Standard deviation, range, variance\n",
        "* Charts and graphs (bar charts, histograms, pie charts)"
      ],
      "metadata": {
        "id": "vaeFZ6rm4u1K"
      }
    },
    {
      "cell_type": "markdown",
      "source": [
        "#4. What is inferential statistics?\n"
      ],
      "metadata": {
        "id": "Se3TWIpJ46c8"
      }
    },
    {
      "cell_type": "markdown",
      "source": [
        "Inferential Statistics\n",
        "This type makes predictions or inferences about a population based on a sample of data.\n",
        "\n",
        "Purpose: To draw conclusions and make predictions beyond the data at hand.\n",
        "\n",
        "Examples:\n",
        "\n",
        "* Hypothesis testing\n",
        "* Confidence intervals\n",
        "* Regression analysis\n",
        "* ANOVA (Analysis of Variance)"
      ],
      "metadata": {
        "id": "t_3IkHTs5Bb2"
      }
    },
    {
      "cell_type": "markdown",
      "source": [
        "#5.  What is sampling in statistics?"
      ],
      "metadata": {
        "id": "cBx8nFBE5FMZ"
      }
    },
    {
      "cell_type": "markdown",
      "source": [
        "Sampling in statistics is the process of selecting a subset (called a sample) from a larger group (called a population) in order to analyze and draw conclusions about the whole population.\n",
        "\n",
        "Common Types of Sampling Methods:\n",
        "* Random Sampling – Every member of the population has an equal chance of being selected.\n",
        "* Stratified Sampling – The population is divided into groups (strata), and random samples are taken from each group.\n",
        "* Systematic Sampling – Every kth individual is selected from a list (e.g., every 10th person).\n",
        "* Cluster Sampling – The population is divided into clusters (often geographically), and entire clusters are randomly selected.\n",
        "* Convenience Sampling – Data is collected from easily accessible people (less reliable, but often used in quick surveys)."
      ],
      "metadata": {
        "id": "TUi7jnUC5H2W"
      }
    },
    {
      "cell_type": "markdown",
      "source": [
        "#6.  What are the different types of sampling methods?"
      ],
      "metadata": {
        "id": "bLX-4_bA5trz"
      }
    },
    {
      "cell_type": "markdown",
      "source": [
        "Common Types of Sampling Methods:\n",
        "* Random Sampling – Every member of the population has an equal chance of being selected.\n",
        "* Stratified Sampling – The population is divided into groups (strata), and random samples are taken from each group.\n",
        "* Systematic Sampling – Every kth individual is selected from a list (e.g., every 10th person).\n",
        "* Cluster Sampling – The population is divided into clusters (often geographically), and entire clusters are randomly selected.\n",
        "* Convenience Sampling – Data is collected from easily accessible people (less reliable, but often used in quick surveys)."
      ],
      "metadata": {
        "id": "o1qdfGNY53eh"
      }
    },
    {
      "cell_type": "markdown",
      "source": [
        "#7.  What is the difference between random and non-random sampling?"
      ],
      "metadata": {
        "id": "BXi8XkUq571K"
      }
    },
    {
      "cell_type": "markdown",
      "source": [
        "1. Random Sampling\n",
        "\n",
        "Definition: Every member of the population has an equal chance of being selected.\n",
        "\n",
        "Purpose: To eliminate bias and ensure the sample represents the whole population.\n",
        "\n",
        "Examples:\n",
        "* Simple Random Sampling\n",
        "* Stratified Sampling\n",
        "* Systematic Sampling\n",
        "* Cluster Sampling\n",
        "\n",
        "Advantages:\n",
        "* More reliable and generalizable results\n",
        "* Reduces selection bias"
      ],
      "metadata": {
        "id": "xcZ4dqPO6Mfo"
      }
    },
    {
      "cell_type": "markdown",
      "source": [
        "2. Non-Random Sampling (Non-Probability Sampling) :-  Not all individuals have a chance of being selected; selection is based on subjective judgment or convenience.\n",
        "\n",
        "Purpose: Often used when time, cost, or accessibility makes random sampling difficult.\n",
        "\n",
        "Examples:\n",
        "* Convenience Sampling\n",
        "* Judgmental (Purposive) Sampling\n",
        "* Quota Sampling\n",
        "* Snowball Sampling"
      ],
      "metadata": {
        "id": "PH0oGmWa6mxv"
      }
    },
    {
      "cell_type": "markdown",
      "source": [
        "#8. Define and give examples of qualitative and quantitative data?"
      ],
      "metadata": {
        "id": "EV7PHpXX68B7"
      }
    },
    {
      "cell_type": "markdown",
      "source": [
        "1. Qualitative Data (also called Categorical Data):-  Describes qualities or characteristics; non-numeric.\n",
        "\n",
        "Purpose: Used to classify or label elements based on attributes or categories.\n",
        "\n",
        "Examples:\n",
        "* Eye color (e.g., brown, blue, green)\n",
        "* Type of cuisine (e.g., Italian, Chinese, Indian)\n",
        "* Gender (e.g., male, female, non-binary)\n",
        "* Feedback (e.g., \"good\", \"average\", \"poor\")"
      ],
      "metadata": {
        "id": "Ef-Ky-zZ7Ro4"
      }
    },
    {
      "cell_type": "markdown",
      "source": [
        "2. Quantitative Data:- Numerical data that represents quantities or measurements.\n",
        "\n",
        "Purpose: Used to perform mathematical operations and statistical analysis.\n",
        "\n",
        "Examples:\n",
        "* Age (e.g., 25 years)\n",
        "* Height (e.g., 170 cm)\n",
        "* Number of students in a class (e.g., 40)\n",
        "* Salary (e.g., ₹50,000/month)"
      ],
      "metadata": {
        "id": "lgrR6bgO7da7"
      }
    },
    {
      "cell_type": "markdown",
      "source": [
        "#9.  What are the different types of data in statistics?"
      ],
      "metadata": {
        "id": "XkzSWKqH7s22"
      }
    },
    {
      "cell_type": "markdown",
      "source": [
        "1. Quantitative Data (Numerical Data) :- This type of data consists of numbers and represents measurable quantities. It is further divided into:\n",
        "\n",
        "* Discrete Data: Countable numbers (e.g., the number of students in a class, the number of cars in a parking lot).\n",
        "\n",
        "* Continuous Data: Measurable and can take any value within a range (e.g., height, weight, temperature).\n",
        "\n",
        "2. Qualitative Data (Categorical Data):- This type of data describes qualities or characteristics and is not numerical. It is divided into:\n",
        "\n",
        "* Nominal Data: Labels or names without any order (e.g., gender, eye color, types of fruits).\n",
        "* Ordinal Data: Categories with a meaningful order or ranking (e.g., survey ratings like \"poor,\" \"average,\" \"excellent\"; educational qualifications)."
      ],
      "metadata": {
        "id": "1HEFgawO8RDl"
      }
    },
    {
      "cell_type": "markdown",
      "source": [
        "#10.  Explain nominal, ordinal, interval, and ratio levels of measurement?"
      ],
      "metadata": {
        "id": "Nfv2mflH8jdJ"
      }
    },
    {
      "cell_type": "markdown",
      "source": [
        "1. Nominal Level (Categorical Data)\n",
        "Description: Labels or names without any inherent order.\n",
        "\n",
        "Example: Hair color (black, blonde, brown), types of cars (SUV, sedan, hatchback), or eye color.\n",
        "\n",
        "Key Feature: Just names—no ranking or numerical significance.\n",
        "\n",
        "2. Ordinal Level (Ordered Categories)\n",
        "Description: Data that has an order, but the differences between values aren’t necessarily uniform.\n",
        "\n",
        "Example: Customer satisfaction ratings (bad, average, good), education levels (high school, bachelor’s, master’s, PhD).\n",
        "\n",
        "Key Feature: Order matters, but the gaps between categories aren’t precise.\n",
        "3. Interval Level (Numerical with Equal Intervals)\n",
        "Description: Numeric values with equal gaps between them, but no true zero (i.e., zero doesn’t mean \"absence\").\n",
        "\n",
        "Example: Temperature in Celsius or Fahrenheit (0°C doesn’t mean \"no temperature\"), IQ scores.\n",
        "\n",
        "Key Feature: Addition and subtraction make sense, but ratios aren’t meaningful.\n",
        "\n",
        "4. Ratio Level (Numerical with a True Zero)\n",
        "Description: Numeric values with equal intervals and a true zero, meaning zero represents \"none of that quantity.\"\n",
        "\n",
        "Example: Height, weight, distance, salary (if you earn ₹0, you truly have no income).\n",
        "\n",
        "Key Feature: All mathematical operations (addition, subtraction, multiplication, division) apply, making this the most versatile type."
      ],
      "metadata": {
        "id": "vTOLXHFE81vK"
      }
    },
    {
      "cell_type": "markdown",
      "source": [
        "#11.  What is the measure of central tendency?"
      ],
      "metadata": {
        "id": "ES4seW0h9dRG"
      }
    },
    {
      "cell_type": "markdown",
      "source": [
        "1. Mean (Average):- Sum of all values divided by the number of values.\n",
        "* Example: If marks are 70, 80, and 90,\n",
        " - Mean = (70 + 80 + 90)/3 = 80\n",
        "2. Median (Middle Value):- The middle number when data is arranged in order.\n",
        "* Even number of values: Average of two middle values.\n",
        "* Example:\n",
        " * Data: 60, 70, 80 → Median = 70\n",
        " * Data: 60, 70, 80, 90 → Median = (70 + 80)/2 = 75\n",
        "3. Mode (Most Frequent Value):- The value that appears most often in the dataset.\n",
        "* Example:\n",
        " * Data: 50, 60, 60, 70 → Mode = 60"
      ],
      "metadata": {
        "id": "BllAmzos9gGv"
      }
    },
    {
      "cell_type": "markdown",
      "source": [
        "#12. Define mean, median, and mode?"
      ],
      "metadata": {
        "id": "ffKNwsOU-g5L"
      }
    },
    {
      "cell_type": "markdown",
      "source": [
        "1. Mean (Average):- Sum of all values divided by the number of values.\n",
        "* Example: If marks are 70, 80, and 90,\n",
        " - Mean = (70 + 80 + 90)/3 = 80\n",
        "2. Median (Middle Value):- The middle number when data is arranged in order.\n",
        "* Even number of values: Average of two middle values.\n",
        "* Example:\n",
        " * Data: 60, 70, 80 → Median = 70\n",
        " * Data: 60, 70, 80, 90 → Median = (70 + 80)/2 = 75\n",
        "3. Mode (Most Frequent Value):- The value that appears most often in the dataset.\n",
        "* Example:\n",
        " * Data: 50, 60, 60, 70 → Mode = 60"
      ],
      "metadata": {
        "id": "5Ph8bGqc-zOz"
      }
    },
    {
      "cell_type": "markdown",
      "source": [
        "#13. What is the significance of the measure of central tendency?"
      ],
      "metadata": {
        "id": "Gygnbu7j-0--"
      }
    },
    {
      "cell_type": "markdown",
      "source": [
        "1. Simplifies Complex Data\n",
        "* It reduces a large set of numbers into a single representative value.\n",
        "* Example: Instead of listing 100 students’ scores, you can say \"The average score is 75.\"\n",
        "\n",
        "2. Facilitates Comparison\n",
        "* Helps compare different data sets easily.\n",
        "* Example: Comparing average income across two cities.\n",
        "\n",
        "3. Forms the Basis for Further Analysis\n",
        "* Used as a foundation for calculating dispersion (e.g., range, variance, standard deviation).\n",
        "* Important in inferential statistics and probability.\n",
        "\n",
        "4. Supports Decision-Making\n",
        "* Businesses, governments, and researchers use it for informed planning.\n",
        "* Example: If the average customer satisfaction is low, a company might revise its services.\n",
        "\n",
        "5. Helps Identify Data Distribution\n",
        "* Knowing whether the data is skewed (mean ≠ median) or symmetrical (mean ≈ median) tells you about the shape of the data"
      ],
      "metadata": {
        "id": "P97s5YfL_QdO"
      }
    },
    {
      "cell_type": "markdown",
      "source": [
        "#14. What is variance, and how is it calculated?"
      ],
      "metadata": {
        "id": "a5pINUQE_6Po"
      }
    },
    {
      "cell_type": "markdown",
      "source": [
        "Variance is a statistical measure that tells you how much the values in a dataset spread out or differ from the mean.\n",
        "\n",
        "A high variance means the data points are very spread out.\n",
        "\n",
        "A low variance means they are close to the mean."
      ],
      "metadata": {
        "id": "U8KO9Rn2AL7y"
      }
    },
    {
      "cell_type": "code",
      "source": [
        "import statistics\n",
        "\n",
        "data = [10, 12, 23, 23, 16, 23, 21, 16]\n",
        "\n",
        "# Population variance\n",
        "pop_variance = statistics.pvariance(data)\n",
        "print(\"Population Variance:\", pop_variance)\n",
        "\n",
        "# Sample variance\n",
        "sample_variance = statistics.variance(data)\n",
        "print(\"Sample Variance:\", sample_variance)"
      ],
      "metadata": {
        "colab": {
          "base_uri": "https://localhost:8080/"
        },
        "id": "vv_dF3yz34ND",
        "outputId": "87e91e78-2a8b-4fee-c946-a584c4134c44"
      },
      "execution_count": null,
      "outputs": [
        {
          "output_type": "stream",
          "name": "stdout",
          "text": [
            "Population Variance: 24\n",
            "Sample Variance: 27.428571428571427\n"
          ]
        }
      ]
    },
    {
      "cell_type": "markdown",
      "source": [
        "#15. What is skewness in a dataset?"
      ],
      "metadata": {
        "id": "59bIGLggAiSC"
      }
    },
    {
      "cell_type": "markdown",
      "source": [
        "Skewness in a dataset refers to the asymmetry of the distribution of data points. It helps determine how data is spread and whether it leans more towards the left or right of the mean. There are three types of skewness:\n",
        "\n",
        "1. Positive Skewness (Right-Skewed)\n",
        "The tail on the right side is longer.\n",
        "\n",
        "The mean is greater than the median.\n",
        "\n",
        "Example: Income distribution in most countries, where a small percentage earns exceptionally high salaries.\n",
        "\n",
        "2. Negative Skewness (Left-Skewed)\n",
        "The tail on the left side is longer.\n",
        "\n",
        "The mean is less than the median.\n",
        "\n",
        "Example: Scores on an easy exam, where most students score high but a few perform poorly.\n",
        "\n",
        "3. No Skewness (Symmetric Distribution)\n",
        "The left and right sides are mirror images.\n",
        "\n",
        "The mean, median, and mode are equal.\n",
        "\n",
        "Example: A normal bell curve in statistics."
      ],
      "metadata": {
        "id": "vkyIBXsgAt7l"
      }
    },
    {
      "cell_type": "markdown",
      "source": [
        "#16. What is standard deviation, and why is it important?"
      ],
      "metadata": {
        "id": "R6VukGh7A3W1"
      }
    },
    {
      "cell_type": "markdown",
      "source": [
        "Standard Deviation (SD) is a measure of the spread or dispersion of a set of data points. It tells you how much individual data points deviate from the mean (average) of the dataset.\n",
        "\n",
        "A low standard deviation means the data points are close to the mean.\n",
        "\n",
        "A high standard deviation means the data points are spread out over a wider range"
      ],
      "metadata": {
        "id": "qMwiPqp6A71G"
      }
    },
    {
      "cell_type": "markdown",
      "source": [
        "Why is Standard Deviation Important?\n",
        "1. Measures Consistency:\n",
        "\n",
        "It helps in understanding how consistent or variable the data is.\n",
        "\n",
        "Example: In exam scores, a high SD means a wider spread in students' performance, while a low SD indicates that most students performed similarly.\n",
        "\n",
        "2. Risk Assessment:\n",
        "\n",
        "In finance, standard deviation is used to measure the volatility of stock prices.\n",
        "\n",
        "A higher SD in stock prices means higher risk.\n",
        "\n",
        "3. Data Distribution:\n",
        "\n",
        "In a normal distribution, about 68% of data falls within 1 standard deviation from the mean, 95% within 2 SD, and 99.7% within 3 SD.\n",
        "Comparison:\n",
        "\n",
        "It allows comparison of two or more datasets. For example, comparing the consistency of different products’ manufacturing processes.\n",
        "\n",
        "4. Statistical Inference:\n",
        "\n",
        "It's essential for many statistical methods like hypothesis testing and confidence intervals."
      ],
      "metadata": {
        "id": "y0Y08mUABNJy"
      }
    },
    {
      "cell_type": "markdown",
      "source": [
        "#17. Define and explain the term range in statistics?"
      ],
      "metadata": {
        "id": "6cAsOU10Bd-F"
      }
    },
    {
      "cell_type": "markdown",
      "source": [
        "The range is a simple measure of spread in a dataset. It is the difference between the maximum and minimum values in the dataset.\n",
        "\n",
        "Example\n",
        "* Consider these test scores: 45, 60, 75, 80, 90 Range =\n",
        "90\n",
        "−\n",
        "45\n",
        "=\n",
        "45\n",
        "\n",
        "max(data): Finds the maximum value in the dataset.\n",
        "\n",
        "min(data): Finds the minimum value in the dataset.\n",
        "\n",
        "max(data) - min(data): Subtracts the minimum from the maximum to get the range."
      ],
      "metadata": {
        "id": "sMzAEj1kBois"
      }
    },
    {
      "cell_type": "code",
      "source": [
        "# Sample dataset\n",
        "data = [5, 10, 12, 15, 20]\n",
        "\n",
        "# Calculate the range\n",
        "data_range = max(data) - min(data)\n",
        "\n",
        "print(\"Range of the dataset:\", data_range)\n"
      ],
      "metadata": {
        "colab": {
          "base_uri": "https://localhost:8080/"
        },
        "id": "R2m3eV7UATwg",
        "outputId": "a2feb006-54c5-452a-e8d9-25f67b187c6d"
      },
      "execution_count": null,
      "outputs": [
        {
          "output_type": "stream",
          "name": "stdout",
          "text": [
            "Range of the dataset: 15\n"
          ]
        }
      ]
    },
    {
      "cell_type": "markdown",
      "source": [
        "#18. What is the difference between variance and standard deviation?"
      ],
      "metadata": {
        "id": "JFMp9U3QCTVB"
      }
    },
    {
      "cell_type": "markdown",
      "source": [
        "Variance and standard deviation are both measures of how spread out data is, but they differ in their calculation and interpretation.\n",
        "\n",
        "Variance (σ²) :- Variance measures the average squared deviation from the mean.\n",
        "\n",
        "Standard Deviation (σ):- The standard deviation is the square root of the variance."
      ],
      "metadata": {
        "id": "r-YYV2ksC0OB"
      }
    },
    {
      "cell_type": "markdown",
      "source": [
        "Key Differences\n",
        "* Calculation and Application\n",
        "  * Variance:- It's the average of the squared differences from the mean. It's often used in statistical formulas and models (e.g., in regression analysis).\n",
        " * Standard Deviation:- It's the square root of variance, so it directly represents the spread in the same units as the data. It’s more commonly used for presenting results and comparing datasets.\n",
        "* Interpretation\n",
        " * Variance:- Provides an overall measure of how spread out the data is. However, because it's in squared units, its interpretation is less intuitive.\n",
        " * Standard Deviation:- Provides a more understandable measure of spread because it's in the same units as the original data. A low standard deviation means the data points are close to the mean, while a high standard deviation means they are spread out.\n",
        "*  Units\n",
        " * Variance:- The units of variance are the square of the original data's units. For example, if your data represents height in centimeters, the variance will be in square centimeters (cm²).\n",
        " * Standard Deviation:- The units of standard deviation are the same as the original data. In the above example, the standard deviation will be in centimeters (cm)."
      ],
      "metadata": {
        "id": "cGIhvxt2DJuq"
      }
    },
    {
      "cell_type": "markdown",
      "source": [
        "#19. What does it mean if a dataset is positively or negatively skewed?"
      ],
      "metadata": {
        "id": "nXFf_1IUFRio"
      }
    },
    {
      "cell_type": "markdown",
      "source": [
        "Skewness refers to the asymmetry of a dataset's distribution around its mean. In a perfectly symmetric (normal) distribution, the left and right sides mirror each other."
      ],
      "metadata": {
        "id": "46h4FMnKFfct"
      }
    },
    {
      "cell_type": "markdown",
      "source": [
        "1. Positively Skewed (Right-Skewed)\n",
        "* Tail is on the right (longer or stretched to the right).\n",
        "* Most values are concentrated on the left.\n",
        "* Mean > Median > Mode\n",
        "\n",
        "* Example:\n",
        " * Income distribution — most people earn less, but a few high-income individuals pull the mean to the right."
      ],
      "metadata": {
        "id": "AQXTrUegFkeG"
      }
    },
    {
      "cell_type": "markdown",
      "source": [
        "2. Negatively Skewed (Left-Skewed)\n",
        "* Tail is on the left (longer or stretched to the left).\n",
        "* Most values are concentrated on the right.\n",
        "* Mean < Median < Mode\n",
        "* Example:\n",
        "Test scores where most students score high, but a few score very low."
      ],
      "metadata": {
        "id": "ewn0bfsDF2tI"
      }
    },
    {
      "cell_type": "markdown",
      "source": [
        "#20. Define and explain kurtosis?"
      ],
      "metadata": {
        "id": "NNgKHUngGBRx"
      }
    },
    {
      "cell_type": "markdown",
      "source": [
        "Kurtosis is a statistical measure that describes the \"tailedness\" or peakedness of a distribution compared to a normal distribution.\n",
        "\n",
        "In simple terms, kurtosis tells us:\n",
        " * How heavy or light the tails of a distribution are\n",
        " * How sharp or flat the peak is compared to a normal (bell-shaped) distribution\n",
        "\n",
        "Why Is Kurtosis Important?\n",
        "* It helps identify the presence of outliers.\n",
        "* High kurtosis means more extreme values (riskier in finance).\n",
        "* It affects assumptions in statistical models like normality and confidence intervals."
      ],
      "metadata": {
        "id": "NmFFOkY7GN2H"
      }
    },
    {
      "cell_type": "markdown",
      "source": [
        "#21. What is the purpose of covariance?"
      ],
      "metadata": {
        "id": "7bMjh8aHGnyk"
      }
    },
    {
      "cell_type": "markdown",
      "source": [
        "Covariance measures how two variables change together—whether they move in the same direction or in opposite directions. It’s useful in statistics, finance, and data analysis for understanding relationships between variables."
      ],
      "metadata": {
        "id": "7P_lBq8OGzEY"
      }
    },
    {
      "cell_type": "markdown",
      "source": [
        "Purpose of Covariance\n",
        "* Determining Relationships\n",
        " * Positive Covariance: When one variable increases, the other tends to increase too (e.g., studying time and exam scores).\n",
        "\n",
        " * Negative Covariance: When one variable increases, the other tends to decrease (e.g., price of a product and demand).\n",
        "\n",
        "* Foundation for Correlation\n",
        "\n",
        " * Covariance helps in calculating correlation, which standardizes the relationship between variables, making it easier to interpret.\n",
        "\n",
        "* Risk Assessment in Finance\n",
        "\n",
        " * Investors use covariance to diversify portfolios—negative covariance between assets can reduce overall risk."
      ],
      "metadata": {
        "id": "WTaGWQmUG3pA"
      }
    },
    {
      "cell_type": "markdown",
      "source": [
        "#22. What does correlation measure in statistics?"
      ],
      "metadata": {
        "id": "XjUmxBXbHsHg"
      }
    },
    {
      "cell_type": "markdown",
      "source": [
        "Correlation is a statistical measure that describes the strength and direction of a relationship between two variables.\n",
        "\n",
        "* Key Features of Correlation:\n",
        " * It quantifies how two variables are related.\n",
        " * The most common measure is the Pearson correlation coefficient (denoted as\n",
        "𝑟\n",
        "r).\n",
        "\n",
        " * Value range:\n",
        "\n",
        "      −\n",
        "1\n",
        "≤\n",
        "𝑟\n",
        "≤\n",
        "1\n"
      ],
      "metadata": {
        "id": "6Bv9tcroHzot"
      }
    },
    {
      "cell_type": "markdown",
      "source": [
        "#23. What is the difference between covariance and correlation?"
      ],
      "metadata": {
        "id": "iqhasqHkIjAE"
      }
    },
    {
      "cell_type": "markdown",
      "source": [
        "Both covariance and correlation measure the relationship between two variables, but they differ in scale, interpretation, and usage.\n",
        "\n",
        " 1. Definition\n",
        " * Covariance :-\tIndicates the direction of the relationship between two variables (positive or negative).\n",
        " * Correlation\t:- Indicates both the strength and direction of a linear relationship, and it’s standardized.\n",
        "\n",
        " 2. key difference:-\n",
        " * covariance:-\n",
        "  - measures direction\n",
        "  - can take any value\n",
        "  - hard to interpret magnitude\n",
        "\n",
        " * Correlation:-\n",
        "  - measures both strength and direction\n",
        "  - always between -1 and +1\n",
        "  - standardized and easier to interpret\n",
        "\n",
        "\n"
      ],
      "metadata": {
        "id": "-62G4FUnIyHJ"
      }
    },
    {
      "cell_type": "markdown",
      "source": [
        "#24.  What are some real-world applications of statistics?"
      ],
      "metadata": {
        "id": "F3TNqXY_LS3n"
      }
    },
    {
      "cell_type": "markdown",
      "source": [
        "1. Business and Economics\n",
        "* Market research: Understanding customer preferences through surveys and data analysis.\n",
        "* Sales forecasting: Predicting future sales based on past trends.\n",
        "* Quality control: Using statistical methods (e.g., control charts) to ensure product consistency.\n",
        "* Risk assessment: Evaluating financial or operational risks.\n",
        "\n",
        "2.  Healthcare and Medicine\n",
        "* Clinical trials: Determining the effectiveness of new drugs or treatments.\n",
        "* Epidemiology: Tracking disease spread (e.g., COVID-19 statistics).\n",
        "* Medical imaging and diagnostics: Enhancing accuracy using statistical models.\n",
        "* Patient data analysis: Improving patient care by identifying trends in health records.\n",
        "\n",
        "3. Government and Policy Making\n",
        "* Census and population studies: Planning infrastructure, education, and public services.\n",
        "* Economic indicators: Analyzing inflation, unemployment, and GDP.\n",
        "* Public health policy: Making data-driven decisions for interventions.\n",
        "\n",
        "4. Education\n",
        "* Performance analysis: Assessing student performance and improving teaching methods.\n",
        "* Standardized testing: Designing and evaluating exams like SAT, GRE, or GATE.\n",
        "* Curriculum development: Using feedback and data to update course content."
      ],
      "metadata": {
        "id": "sYf9dTehLbcA"
      }
    },
    {
      "cell_type": "markdown",
      "source": [
        "# practical"
      ],
      "metadata": {
        "id": "WTONQl7pMKBv"
      }
    },
    {
      "cell_type": "markdown",
      "source": [
        "#1. How do you calculate the mean, median, and mode of a dataset"
      ],
      "metadata": {
        "id": "n0FbkPDVMbdT"
      }
    },
    {
      "cell_type": "code",
      "source": [
        "import statistics\n",
        "\n",
        "# Sample dataset\n",
        "data = [4, 8, 6, 5, 3, 4, 4]\n",
        "\n",
        "# Calculate Mean\n",
        "mean = statistics.mean(data)\n",
        "\n",
        "# Calculate Median\n",
        "median = statistics.median(data)\n",
        "\n",
        "# Calculate Mode\n",
        "try:\n",
        "    mode = statistics.mode(data)\n",
        "except statistics.StatisticsError:\n",
        "    mode = \"No unique mode found\"\n",
        "\n",
        "# Display results\n",
        "print(\"Mean:\", mean)\n",
        "print(\"Median:\", median)\n",
        "print(\"Mode:\", mode)\n"
      ],
      "metadata": {
        "colab": {
          "base_uri": "https://localhost:8080/"
        },
        "id": "Qga-3rNACEN1",
        "outputId": "85a93901-fe8d-4b78-cdf4-4e7ca7f4ec97"
      },
      "execution_count": null,
      "outputs": [
        {
          "output_type": "stream",
          "name": "stdout",
          "text": [
            "Mean: 4.857142857142857\n",
            "Median: 4\n",
            "Mode: 4\n"
          ]
        }
      ]
    },
    {
      "cell_type": "markdown",
      "source": [
        "#2. Write a Python program to compute the variance and standard deviation of a dataset?"
      ],
      "metadata": {
        "id": "eQnFccKCMva2"
      }
    },
    {
      "cell_type": "code",
      "source": [
        "import statistics\n",
        "\n",
        "# Sample dataset\n",
        "data = [10, 12, 23, 23, 16, 23, 21, 16]\n",
        "\n",
        "# Calculate Sample Variance and Standard Deviation\n",
        "sample_variance = statistics.variance(data)\n",
        "sample_std_dev = statistics.stdev(data)\n",
        "\n",
        "# Calculate Population Variance and Standard Deviation\n",
        "population_variance = statistics.pvariance(data)\n",
        "population_std_dev = statistics.pstdev(data)\n",
        "\n",
        "# Display results\n",
        "print(\"Sample Variance:\", sample_variance)\n",
        "print(\"Sample Standard Deviation:\", sample_std_dev)\n",
        "print(\"Population Variance:\", population_variance)\n",
        "print(\"Population Standard Deviation:\", population_std_dev)\n"
      ],
      "metadata": {
        "colab": {
          "base_uri": "https://localhost:8080/"
        },
        "id": "6dC_gZ_AMqXR",
        "outputId": "58eb0124-0b23-4514-dc6a-240e4d4a9d5e"
      },
      "execution_count": null,
      "outputs": [
        {
          "output_type": "stream",
          "name": "stdout",
          "text": [
            "Sample Variance: 27.428571428571427\n",
            "Sample Standard Deviation: 5.237229365663818\n",
            "Population Variance: 24\n",
            "Population Standard Deviation: 4.898979485566356\n"
          ]
        }
      ]
    },
    {
      "cell_type": "markdown",
      "source": [
        "#3. Create a dataset and classify it into nominal, ordinal, interval, and ratio types?"
      ],
      "metadata": {
        "id": "24GnMDamM_Fc"
      }
    },
    {
      "cell_type": "code",
      "source": [
        "import pandas as pd\n",
        "\n",
        "# Creating a dataset with different types of data\n",
        "data = {\n",
        "    'Name': ['Alice', 'Bob', 'Charlie', 'David', 'Emma'],  # Nominal (Categorical, no order)\n",
        "    'Education Level': ['High School', 'Bachelor', 'Master', 'PhD', 'Bachelor'],  # Ordinal (Ordered categories)\n",
        "    'Temperature (°C)': [36.5, 37.0, 36.8, 38.2, 37.5],  # Interval (Numeric, equal intervals but no true zero)\n",
        "    'Height (cm)': [162, 175, 168, 180, 170],  # Ratio (Numeric with true zero, all mathematical operations apply)\n",
        "}\n",
        "\n",
        "# Creating a DataFrame\n",
        "df = pd.DataFrame(data)\n",
        "\n",
        "# Displaying the dataset\n",
        "print(\"Sample Dataset:\")\n",
        "print(df)\n",
        "\n",
        "# Displaying data type classifications\n",
        "data_types = {\n",
        "    'Name': 'Nominal',\n",
        "    'Education Level': 'Ordinal',\n",
        "    'Temperature (°C)': 'Interval',\n",
        "    'Height (cm)': 'Ratio'\n",
        "}\n",
        "\n",
        "print(\"\\nData Type Classification:\")\n",
        "for column, dtype in data_types.items():\n",
        "    print(f\"{column}: {dtype}\")\n"
      ],
      "metadata": {
        "colab": {
          "base_uri": "https://localhost:8080/"
        },
        "id": "_QH4DCw6NS3l",
        "outputId": "7403076e-62b7-4713-ea93-f87609f90092"
      },
      "execution_count": null,
      "outputs": [
        {
          "output_type": "stream",
          "name": "stdout",
          "text": [
            "Sample Dataset:\n",
            "      Name Education Level  Temperature (°C)  Height (cm)\n",
            "0    Alice     High School              36.5          162\n",
            "1      Bob        Bachelor              37.0          175\n",
            "2  Charlie          Master              36.8          168\n",
            "3    David             PhD              38.2          180\n",
            "4     Emma        Bachelor              37.5          170\n",
            "\n",
            "Data Type Classification:\n",
            "Name: Nominal\n",
            "Education Level: Ordinal\n",
            "Temperature (°C): Interval\n",
            "Height (cm): Ratio\n"
          ]
        }
      ]
    },
    {
      "cell_type": "markdown",
      "source": [
        "#4.  Implement sampling techniques like random sampling and stratified sampling"
      ],
      "metadata": {
        "id": "FHa0RhF2NzBJ"
      }
    },
    {
      "cell_type": "code",
      "source": [
        "import pandas as pd\n",
        "\n",
        "# Sample dataset\n",
        "data = {\n",
        "    \"Name\": [\"Alice\", \"Bob\", \"Charlie\", \"David\", \"Eve\", \"Frank\", \"Grace\", \"Heidi\", \"Ivan\", \"Judy\"],\n",
        "    \"Age\": [25, 30, 35, 40, 45, 50, 55, 60, 65, 70],\n",
        "    \"Gender\": [\"Female\", \"Male\", \"Male\", \"Male\", \"Female\", \"Female\", \"Male\", \"Female\", \"Male\", \"Female\"]\n",
        "}\n",
        "\n",
        "# Create a DataFrame\n",
        "df = pd.DataFrame(data)\n",
        "\n",
        "# Random Sampling: Select 3 random records\n",
        "random_sample = df.sample(n=3, random_state=1)  # n=3 means 3 rows\n",
        "\n",
        "print(\"Random Sampling:\\n\")\n",
        "print(random_sample)\n",
        "\n",
        "# Stratified Sampling: Sample 50% from each gender\n",
        "stratified_sample = df.groupby('Gender').apply(lambda x: x.sample(frac=0.5, random_state=1))\n",
        "\n",
        "print(\"\\nStratified Sampling (50% from each group):\\n\")\n",
        "print(stratified_sample)\n"
      ],
      "metadata": {
        "colab": {
          "base_uri": "https://localhost:8080/"
        },
        "id": "BEeXfnzGN5pQ",
        "outputId": "c0c0c53e-f44c-439f-8333-5558751ede87"
      },
      "execution_count": null,
      "outputs": [
        {
          "output_type": "stream",
          "name": "stdout",
          "text": [
            "Random Sampling:\n",
            "\n",
            "      Name  Age  Gender\n",
            "2  Charlie   35    Male\n",
            "9     Judy   70  Female\n",
            "6    Grace   55    Male\n",
            "\n",
            "Stratified Sampling (50% from each group):\n",
            "\n",
            "             Name  Age  Gender\n",
            "Gender                        \n",
            "Female 5    Frank   50  Female\n",
            "       4      Eve   45  Female\n",
            "Male   3    David   40    Male\n",
            "       2  Charlie   35    Male\n"
          ]
        },
        {
          "output_type": "stream",
          "name": "stderr",
          "text": [
            "<ipython-input-9-552b53bcd26f>:20: DeprecationWarning: DataFrameGroupBy.apply operated on the grouping columns. This behavior is deprecated, and in a future version of pandas the grouping columns will be excluded from the operation. Either pass `include_groups=False` to exclude the groupings or explicitly select the grouping columns after groupby to silence this warning.\n",
            "  stratified_sample = df.groupby('Gender').apply(lambda x: x.sample(frac=0.5, random_state=1))\n"
          ]
        }
      ]
    },
    {
      "cell_type": "markdown",
      "source": [
        "#5.  Write a Python function to calculate the range of a dataset"
      ],
      "metadata": {
        "id": "www5ICYZqCLJ"
      }
    },
    {
      "cell_type": "code",
      "source": [
        "def calculate_range(data):\n",
        "    if not data:\n",
        "        return None  # Handle empty list\n",
        "    return max(data) - min(data)\n",
        "\n",
        "# Example usage\n",
        "dataset = [10, 20, 15, 8, 25, 30]\n",
        "result = calculate_range(dataset)\n",
        "print(\"Range of the dataset:\", result)\n"
      ],
      "metadata": {
        "id": "KcaiQcs-OYq9",
        "colab": {
          "base_uri": "https://localhost:8080/"
        },
        "outputId": "17101838-1904-47a2-eb64-22a00c0f2092"
      },
      "execution_count": 1,
      "outputs": [
        {
          "output_type": "stream",
          "name": "stdout",
          "text": [
            "Range of the dataset: 22\n"
          ]
        }
      ]
    },
    {
      "cell_type": "markdown",
      "source": [
        "#6. Create a dataset and plot its histogram to visualize skewness"
      ],
      "metadata": {
        "id": "U0xY55A4qQwG"
      }
    },
    {
      "cell_type": "code",
      "source": [
        "import numpy as np\n",
        "import matplotlib.pyplot as plt\n",
        "import seaborn as sns\n",
        "\n",
        "# Create a positively skewed dataset using exponential distribution\n",
        "data = np.random.exponential(scale=2.0, size=1000)\n",
        "\n",
        "# Plot the histogram\n",
        "plt.figure(figsize=(8, 5))\n",
        "sns.histplot(data, kde=True, bins=30, color='skyblue')\n",
        "plt.title(\"Histogram to Visualize Skewness\")\n",
        "plt.xlabel(\"Value\")\n",
        "plt.ylabel(\"Frequency\")\n",
        "plt.grid(True)\n",
        "plt.show()\n"
      ],
      "metadata": {
        "colab": {
          "base_uri": "https://localhost:8080/",
          "height": 487
        },
        "id": "jYUs7dcNqItF",
        "outputId": "f059025d-ddb0-48ee-86d6-5e5af0ceb30d"
      },
      "execution_count": 2,
      "outputs": [
        {
          "output_type": "display_data",
          "data": {
            "text/plain": [
              "<Figure size 800x500 with 1 Axes>"
            ],
            "image/png": "[encoded data removed]"
          },
          "metadata": {}
        }
      ]
    },
    {
      "cell_type": "markdown",
      "source": [
        "#7.  Calculate skewness and kurtosis of a dataset using Python libraries"
      ],
      "metadata": {
        "id": "qPc8TuJ8qd94"
      }
    },
    {
      "cell_type": "code",
      "source": [
        "import numpy as np\n",
        "import pandas as pd\n",
        "from scipy.stats import skew, kurtosis\n",
        "\n",
        "# Create a dataset (you can replace this with any data)\n",
        "data = np.random.exponential(scale=2.0, size=1000)  # Positively skewed data\n",
        "\n",
        "# Using scipy to calculate skewness and kurtosis\n",
        "data_skewness = skew(data)\n",
        "data_kurtosis = kurtosis(data)  # By default, this returns excess kurtosis\n",
        "\n",
        "# Print results\n",
        "print(\"Skewness:\", data_skewness)\n",
        "print(\"Kurtosis (Excess):\", data_kurtosis)\n",
        "print(\"Kurtosis (Actual):\", data_kurtosis + 3)  # Add 3 for actual kurtosis\n"
      ],
      "metadata": {
        "colab": {
          "base_uri": "https://localhost:8080/"
        },
        "id": "F_o6mAsOqY9P",
        "outputId": "5459d7bb-c591-44bb-953a-87048f8b47c3"
      },
      "execution_count": 3,
      "outputs": [
        {
          "output_type": "stream",
          "name": "stdout",
          "text": [
            "Skewness: 1.5953335484373543\n",
            "Kurtosis (Excess): 3.185109186983979\n",
            "Kurtosis (Actual): 6.185109186983979\n"
          ]
        }
      ]
    },
    {
      "cell_type": "markdown",
      "source": [
        "#8.  Generate a dataset and demonstrate positive and negative skewness"
      ],
      "metadata": {
        "id": "oshJdVoSqpxM"
      }
    },
    {
      "cell_type": "code",
      "source": [
        "import numpy as np\n",
        "import matplotlib.pyplot as plt\n",
        "import seaborn as sns\n",
        "from scipy.stats import skew\n",
        "\n",
        "# Generate positively skewed data (e.g., exponential distribution)\n",
        "positive_skew_data = np.random.exponential(scale=2.0, size=1000)\n",
        "\n",
        "# Generate negatively skewed data (flip exponential distribution)\n",
        "negative_skew_data = -np.random.exponential(scale=2.0, size=1000)\n",
        "\n",
        "# Plot both histograms\n",
        "plt.figure(figsize=(14, 5))\n",
        "\n",
        "# Positive Skew\n",
        "plt.subplot(1, 2, 1)\n",
        "sns.histplot(positive_skew_data, kde=True, color=\"skyblue\", bins=30)\n",
        "plt.title(f\"Positively Skewed Data\\nSkewness: {skew(positive_skew_data):.2f}\")\n",
        "plt.xlabel(\"Value\")\n",
        "plt.ylabel(\"Frequency\")\n",
        "\n",
        "# Negative Skew\n",
        "plt.subplot(1, 2, 2)\n",
        "sns.histplot(negative_skew_data, kde=True, color=\"salmon\", bins=30)\n",
        "plt.title(f\"Negatively Skewed Data\\nSkewness: {skew(negative_skew_data):.2f}\")\n",
        "plt.xlabel(\"Value\")\n",
        "plt.ylabel(\"Frequency\")\n",
        "\n",
        "plt.tight_layout()\n",
        "plt.show()\n"
      ],
      "metadata": {
        "colab": {
          "base_uri": "https://localhost:8080/",
          "height": 404
        },
        "id": "xhUATjhnqmPh",
        "outputId": "925ecf83-1c8d-418f-b362-e893a56a98a9"
      },
      "execution_count": 4,
      "outputs": [
        {
          "output_type": "display_data",
          "data": {
            "text/plain": [
              "<Figure size 1400x500 with 2 Axes>"
            ],
            "image/png": "[encoded data removed]"
          },
          "metadata": {}
        }
      ]
    },
    {
      "cell_type": "markdown",
      "source": [
        "#9. Write a Python script to calculate covariance between two datasets"
      ],
      "metadata": {
        "id": "EEmAplWJqyua"
      }
    },
    {
      "cell_type": "code",
      "source": [
        "import numpy as np\n",
        "\n",
        "# Example datasets\n",
        "x = [10, 20, 30, 40, 50]\n",
        "y = [15, 25, 35, 45, 60]\n",
        "\n",
        "# 1. Manual Calculation of Covariance\n",
        "def manual_covariance(x, y):\n",
        "    n = len(x)\n",
        "    mean_x = sum(x) / n\n",
        "    mean_y = sum(y) / n\n",
        "    cov = sum((x[i] - mean_x) * (y[i] - mean_y) for i in range(n)) / (n - 1)\n",
        "    return cov\n",
        "\n",
        "# 2. Using NumPy\n",
        "cov_matrix = np.cov(x, y, bias=False)  # bias=False = sample covariance\n",
        "\n",
        "# Output\n",
        "print(\"Manual Covariance:\", manual_covariance(x, y))\n",
        "print(\"NumPy Covariance Matrix:\\n\", cov_matrix)\n",
        "print(\"Covariance from NumPy:\", cov_matrix[0, 1])\n"
      ],
      "metadata": {
        "colab": {
          "base_uri": "https://localhost:8080/"
        },
        "id": "VUA8nABKquvZ",
        "outputId": "1c10c495-d57a-4fba-dcfb-b630635d518d"
      },
      "execution_count": 5,
      "outputs": [
        {
          "output_type": "stream",
          "name": "stdout",
          "text": [
            "Manual Covariance: 275.0\n",
            "NumPy Covariance Matrix:\n",
            " [[250. 275.]\n",
            " [275. 305.]]\n",
            "Covariance from NumPy: 275.0\n"
          ]
        }
      ]
    },
    {
      "cell_type": "markdown",
      "source": [
        "#10.  Write a Python script to calculate the correlation coefficient between two datasets"
      ],
      "metadata": {
        "id": "5I2C-YSeq9pP"
      }
    },
    {
      "cell_type": "code",
      "source": [
        "import numpy as np\n",
        "\n",
        "# Example datasets\n",
        "x = [10, 20, 30, 40, 50]\n",
        "y = [15, 25, 35, 45, 60]\n",
        "\n",
        "# Calculate correlation coefficient using NumPy\n",
        "correlation_matrix = np.corrcoef(x, y)\n",
        "correlation_coefficient = correlation_matrix[0, 1]\n",
        "\n",
        "# Output\n",
        "print(\"Correlation Coefficient:\", correlation_coefficient)\n"
      ],
      "metadata": {
        "colab": {
          "base_uri": "https://localhost:8080/"
        },
        "id": "k_7qJjjkq4bD",
        "outputId": "9ee497ec-4247-4a1b-efba-c5bb69047a3b"
      },
      "execution_count": 6,
      "outputs": [
        {
          "output_type": "stream",
          "name": "stdout",
          "text": [
            "Correlation Coefficient: 0.995893206467704\n"
          ]
        }
      ]
    },
    {
      "cell_type": "markdown",
      "source": [
        "#11.  Create a scatter plot to visualize the relationship between two variables"
      ],
      "metadata": {
        "id": "7cHmy83FrFqp"
      }
    },
    {
      "cell_type": "code",
      "source": [
        "import matplotlib.pyplot as plt\n",
        "import seaborn as sns\n",
        "\n",
        "# Example datasets\n",
        "x = [10, 20, 30, 40, 50]\n",
        "y = [15, 25, 35, 45, 60]\n",
        "\n",
        "# Create scatter plot with regression line\n",
        "plt.figure(figsize=(6, 4))\n",
        "sns.scatterplot(x=x, y=y, color=\"blue\", s=60)\n",
        "sns.regplot(x=x, y=y, scatter=False, color=\"red\", label=\"Trend Line\")\n",
        "\n",
        "plt.title(\"Scatter Plot of X vs Y\")\n",
        "plt.xlabel(\"X Values\")\n",
        "plt.ylabel(\"Y Values\")\n",
        "plt.legend()\n",
        "plt.grid(True)\n",
        "plt.tight_layout()\n",
        "plt.show()\n"
      ],
      "metadata": {
        "colab": {
          "base_uri": "https://localhost:8080/",
          "height": 407
        },
        "id": "FVpKN_czrCcR",
        "outputId": "ae3cf1f1-0de4-48c6-cd30-0645d56636de"
      },
      "execution_count": 7,
      "outputs": [
        {
          "output_type": "display_data",
          "data": {
            "text/plain": [
              "<Figure size 600x400 with 1 Axes>"
            ],
            "image/png": "[encoded data removed]"
          },
          "metadata": {}
        }
      ]
    },
    {
      "cell_type": "markdown",
      "source": [
        "#12.  Implement and compare simple random sampling and systematic sampling"
      ],
      "metadata": {
        "id": "JrEYKAwHrObP"
      }
    },
    {
      "cell_type": "code",
      "source": [
        "import pandas as pd\n",
        "import numpy as np\n",
        "\n",
        "# Sample dataset (1 to 100)\n",
        "data = pd.DataFrame({'Value': np.arange(1, 101)})\n",
        "\n",
        "# 1. Simple Random Sampling (sample n=10)\n",
        "simple_random_sample = data.sample(n=10, random_state=42)\n",
        "\n",
        "# 2. Systematic Sampling (every k-th element)\n",
        "def systematic_sampling(df, sample_size):\n",
        "    step = len(df) // sample_size\n",
        "    return df.iloc[::step][:sample_size]\n",
        "\n",
        "systematic_sample = systematic_sampling(data, 10)\n",
        "\n",
        "# Display Results\n",
        "print(\" Simple Random Sample:\\n\", simple_random_sample.sort_index())\n",
        "print(\"\\n Systematic Sample:\\n\", systematic_sample)\n"
      ],
      "metadata": {
        "colab": {
          "base_uri": "https://localhost:8080/"
        },
        "id": "LTOKEEFXrLfS",
        "outputId": "32585139-bd1e-4326-e0d7-193d8a8985c9"
      },
      "execution_count": 8,
      "outputs": [
        {
          "output_type": "stream",
          "name": "stdout",
          "text": [
            " Simple Random Sample:\n",
            "     Value\n",
            "0       1\n",
            "10     11\n",
            "22     23\n",
            "39     40\n",
            "44     45\n",
            "45     46\n",
            "53     54\n",
            "70     71\n",
            "80     81\n",
            "83     84\n",
            "\n",
            " Systematic Sample:\n",
            "     Value\n",
            "0       1\n",
            "10     11\n",
            "20     21\n",
            "30     31\n",
            "40     41\n",
            "50     51\n",
            "60     61\n",
            "70     71\n",
            "80     81\n",
            "90     91\n"
          ]
        }
      ]
    },
    {
      "cell_type": "markdown",
      "source": [
        "#13.  Calculate the mean, median, and mode of grouped data"
      ],
      "metadata": {
        "id": "m3kV1AatrewI"
      }
    },
    {
      "cell_type": "code",
      "source": [
        "import pandas as pd\n",
        "import numpy as np\n",
        "from statistics import mode\n",
        "\n",
        "# Example grouped data\n",
        "# Class intervals: 0–10, 10–20, ..., 40–50\n",
        "# Frequency: number of observations in each class\n",
        "data = {\n",
        "    'Class_Interval': ['0-10', '10-20', '20-30', '30-40', '40-50'],\n",
        "    'Frequency': [5, 8, 15, 16, 6]\n",
        "}\n",
        "\n",
        "# Convert to DataFrame\n",
        "df = pd.DataFrame(data)\n",
        "\n",
        "# Step 1: Calculate midpoints for each class\n",
        "def get_midpoint(interval):\n",
        "    lower, upper = map(int, interval.split('-'))\n",
        "    return (lower + upper) / 2\n",
        "\n",
        "df['Midpoint'] = df['Class_Interval'].apply(get_midpoint)\n",
        "\n",
        "# Step 2: Calculate Mean\n",
        "mean = (df['Midpoint'] * df['Frequency']).sum() / df['Frequency'].sum()\n",
        "\n",
        "# Step 3: Calculate Median\n",
        "df['Cumulative_Frequency'] = df['Frequency'].cumsum()\n",
        "N = df['Frequency'].sum()\n",
        "median_class_index = df[df['Cumulative_Frequency'] >= N/2].index[0]\n",
        "\n",
        "L = int(df.loc[median_class_index, 'Class_Interval'].split('-')[0])  # lower boundary\n",
        "f = df.loc[median_class_index, 'Frequency']\n",
        "F = df.loc[median_class_index - 1, 'Cumulative_Frequency'] if median_class_index != 0 else 0\n",
        "h = 10  # class width (assumed equal)\n",
        "\n",
        "median = L + ((N/2 - F) / f) * h\n",
        "\n",
        "# Step 4: Calculate Mode\n",
        "modal_class_index = df['Frequency'].idxmax()\n",
        "L_modal = int(df.loc[modal_class_index, 'Class_Interval'].split('-')[0])\n",
        "f1 = df.loc[modal_class_index, 'Frequency']\n",
        "f0 = df.loc[modal_class_index - 1, 'Frequency'] if modal_class_index > 0 else 0\n",
        "f2 = df.loc[modal_class_index + 1, 'Frequency'] if modal_class_index + 1 < len(df) else 0\n",
        "\n",
        "mode_grouped = L_modal + ((f1 - f0) / ((2 * f1) - f0 - f2)) * h\n",
        "\n",
        "# Output results\n",
        "print(f\"Mean: {mean:.2f}\")\n",
        "print(f\"Median: {median:.2f}\")\n",
        "print(f\"Mode: {mode_grouped:.2f}\")\n"
      ],
      "metadata": {
        "colab": {
          "base_uri": "https://localhost:8080/"
        },
        "id": "BPkgKBWTrbUA",
        "outputId": "1e8f10c6-df00-4833-9c3d-065366be348f"
      },
      "execution_count": 9,
      "outputs": [
        {
          "output_type": "stream",
          "name": "stdout",
          "text": [
            "Mean: 27.00\n",
            "Median: 28.00\n",
            "Mode: 30.91\n"
          ]
        }
      ]
    },
    {
      "cell_type": "markdown",
      "source": [
        "#14.  Simulate data using Python and calculate its central tendency and dispersion"
      ],
      "metadata": {
        "id": "-JMBY4RDrpT_"
      }
    },
    {
      "cell_type": "code",
      "source": [
        "import numpy as np\n",
        "import pandas as pd\n",
        "from scipy import stats\n",
        "\n",
        "# Simulating some data (replace this with your actual DataFrame column)\n",
        "data = np.random.normal(50, 10, 1000)  # Example data\n",
        "\n",
        "# Central Tendency:\n",
        "mean_value = np.mean(data)\n",
        "median_value = np.median(data)\n",
        "\n",
        "# Mode: Proper access from ModeResult object\n",
        "mode_result = stats.mode(data)\n",
        "mode_value = mode_result.mode[0]  # Access the first mode value\n",
        "\n",
        "# Dispersion:\n",
        "variance = np.var(data)\n",
        "std_dev = np.std(data)\n",
        "data_range = np.max(data) - np.min(data)\n",
        "\n",
        "# Output the results\n",
        "print(f\"Mean: {mean_value:.2f}\")\n",
        "print(f\"Median: {median_value:.2f}\")\n",
        "print(f\"Mode: {mode_value:.2f}\")\n",
        "print(f\"Variance: {variance:.2f}\")\n",
        "print(f\"Standard Deviation: {std_dev:.2f}\")\n",
        "print(f\"Range: {data_range:.2f}\")\n"
      ],
      "metadata": {
        "id": "CrMtOCkrtLxT"
      },
      "execution_count": null,
      "outputs": []
    },
    {
      "cell_type": "markdown",
      "source": [
        "#15. Use NumPy or pandas to summarize a dataset’s descriptive statistics"
      ],
      "metadata": {
        "id": "JEuiaq0FtWug"
      }
    },
    {
      "cell_type": "code",
      "source": [
        "import numpy as np\n",
        "\n",
        "# Example dataset\n",
        "data = np.random.normal(50, 10, 1000)  # Simulated data (mean=50, std=10)\n",
        "\n",
        "# Descriptive statistics using NumPy\n",
        "mean = np.mean(data)\n",
        "median = np.median(data)\n",
        "std_dev = np.std(data)\n",
        "variance = np.var(data)\n",
        "data_min = np.min(data)\n",
        "data_max = np.max(data)\n",
        "range_value = data_max - data_min\n",
        "percentiles = np.percentile(data, [25, 50, 75])\n",
        "\n",
        "# Output the results\n",
        "print(\"Descriptive Statistics using NumPy:\")\n",
        "print(f\"Mean: {mean:.2f}\")\n",
        "print(f\"Median: {median:.2f}\")\n",
        "print(f\"Standard Deviation: {std_dev:.2f}\")\n",
        "print(f\"Variance: {variance:.2f}\")\n",
        "print(f\"Min: {data_min:.2f}\")\n",
        "print(f\"Max: {data_max:.2f}\")\n",
        "print(f\"Range: {range_value:.2f}\")\n",
        "print(f\"25th Percentile: {percentiles[0]:.2f}\")\n",
        "print(f\"50th Percentile (Median): {percentiles[1]:.2f}\")\n",
        "print(f\"75th Percentile: {percentiles[2]:.2f}\")\n"
      ],
      "metadata": {
        "colab": {
          "base_uri": "https://localhost:8080/"
        },
        "id": "H6sFbvgwtUni",
        "outputId": "dd628fcf-1078-4da5-da5f-d9e51face918"
      },
      "execution_count": 18,
      "outputs": [
        {
          "output_type": "stream",
          "name": "stdout",
          "text": [
            "Descriptive Statistics using NumPy:\n",
            "Mean: 49.56\n",
            "Median: 49.60\n",
            "Standard Deviation: 9.94\n",
            "Variance: 98.87\n",
            "Min: 16.60\n",
            "Max: 79.21\n",
            "Range: 62.60\n",
            "25th Percentile: 42.47\n",
            "50th Percentile (Median): 49.60\n",
            "75th Percentile: 56.91\n"
          ]
        }
      ]
    },
    {
      "cell_type": "markdown",
      "source": [
        "#16.  Plot a boxplot to understand the spread and identify outliers"
      ],
      "metadata": {
        "id": "f2sfX2WTto-0"
      }
    },
    {
      "cell_type": "code",
      "source": [
        "import pandas as pd\n",
        "import numpy as np\n",
        "import matplotlib.pyplot as plt\n",
        "import seaborn as sns\n",
        "\n",
        "# Example dataset\n",
        "data = np.random.normal(50, 10, 1000)  # Simulated data (mean=50, std=10)\n",
        "\n",
        "# Create a DataFrame\n",
        "df = pd.DataFrame({'Data': data})\n",
        "\n",
        "# Plotting the boxplot\n",
        "plt.figure(figsize=(8, 6))\n",
        "sns.boxplot(x=df['Data'], color='skyblue', width=0.5)\n",
        "\n",
        "# Adding titles and labels\n",
        "plt.title(\"Boxplot of Simulated Data\", fontsize=16)\n",
        "plt.xlabel(\"Values\", fontsize=14)\n",
        "plt.show()\n"
      ],
      "metadata": {
        "colab": {
          "base_uri": "https://localhost:8080/",
          "height": 571
        },
        "id": "pNo806DltkQt",
        "outputId": "2d1ee356-b6b3-4e65-db8d-bcf36a5cac02"
      },
      "execution_count": 19,
      "outputs": [
        {
          "output_type": "display_data",
          "data": {
            "text/plain": [
              "<Figure size 800x600 with 1 Axes>"
            ],
            "image/png": "[encoded data removed]"
          },
          "metadata": {}
        }
      ]
    },
    {
      "cell_type": "markdown",
      "source": [
        "#17. Calculate the interquartile range (IQR) of a dataset"
      ],
      "metadata": {
        "id": "46RaQol9t0nm"
      }
    },
    {
      "cell_type": "code",
      "source": [
        "import numpy as np\n",
        "\n",
        "# Example dataset\n",
        "data = np.random.normal(50, 10, 1000)  # Simulated data (mean=50, std=10)\n",
        "\n",
        "# Calculate Q1 (25th percentile) and Q3 (75th percentile)\n",
        "Q1 = np.percentile(data, 25)\n",
        "Q3 = np.percentile(data, 75)\n",
        "\n",
        "# Calculate IQR\n",
        "IQR = Q3 - Q1\n",
        "\n",
        "# Output the results\n",
        "print(f\"Q1 (25th percentile): {Q1:.2f}\")\n",
        "print(f\"Q3 (75th percentile): {Q3:.2f}\")\n",
        "print(f\"IQR: {IQR:.2f}\")\n"
      ],
      "metadata": {
        "colab": {
          "base_uri": "https://localhost:8080/"
        },
        "id": "7b-ygjwStwyx",
        "outputId": "1e7121ff-2768-4935-cb8b-723160949dc2"
      },
      "execution_count": 20,
      "outputs": [
        {
          "output_type": "stream",
          "name": "stdout",
          "text": [
            "Q1 (25th percentile): 43.53\n",
            "Q3 (75th percentile): 57.26\n",
            "IQR: 13.72\n"
          ]
        }
      ]
    },
    {
      "cell_type": "markdown",
      "source": [
        "#18.  Implement Z-score normalization and explain its significance"
      ],
      "metadata": {
        "id": "AqtjArhEt9-Y"
      }
    },
    {
      "cell_type": "code",
      "source": [
        "import numpy as np\n",
        "import pandas as pd\n",
        "from scipy import stats\n",
        "\n",
        "# Example dataset\n",
        "data = np.random.normal(50, 10, 1000)  # Simulated data (mean=50, std=10)\n",
        "\n",
        "# Z-score normalization using NumPy\n",
        "mean = np.mean(data)\n",
        "std_dev = np.std(data)\n",
        "\n",
        "z_scores = (data - mean) / std_dev\n",
        "\n",
        "# Alternatively, using SciPy for Z-score\n",
        "z_scores_scipy = stats.zscore(data)\n",
        "\n",
        "# Output the first 10 Z-scores\n",
        "print(f\"First 10 Z-scores (manual calculation): {z_scores[:10]}\")\n",
        "print(f\"First 10 Z-scores (SciPy calculation): {z_scores_scipy[:10]}\")\n"
      ],
      "metadata": {
        "colab": {
          "base_uri": "https://localhost:8080/"
        },
        "id": "tis-q-bqt7Do",
        "outputId": "bfbfbdcc-661b-43e6-f08b-410e5b06d5f6"
      },
      "execution_count": 21,
      "outputs": [
        {
          "output_type": "stream",
          "name": "stdout",
          "text": [
            "First 10 Z-scores (manual calculation): [ 0.43613473 -1.11229121  0.56544777  1.73446643 -0.63485624  0.45826445\n",
            "  0.23426182  1.0083375  -0.08918922 -1.0652007 ]\n",
            "First 10 Z-scores (SciPy calculation): [ 0.43613473 -1.11229121  0.56544777  1.73446643 -0.63485624  0.45826445\n",
            "  0.23426182  1.0083375  -0.08918922 -1.0652007 ]\n"
          ]
        }
      ]
    },
    {
      "cell_type": "markdown",
      "source": [
        "#19.  Compare two datasets using their standard deviations"
      ],
      "metadata": {
        "id": "7dF1STSQuJmA"
      }
    },
    {
      "cell_type": "code",
      "source": [
        "import numpy as np\n",
        "\n",
        "# Example datasets (simulated data)\n",
        "data1 = np.random.normal(50, 10, 1000)  # Dataset 1 (mean=50, std=10)\n",
        "data2 = np.random.normal(50, 20, 1000)  # Dataset 2 (mean=50, std=20)\n",
        "\n",
        "# Calculate standard deviations\n",
        "std_dev_1 = np.std(data1)\n",
        "std_dev_2 = np.std(data2)\n",
        "\n",
        "# Output the results\n",
        "print(f\"Standard Deviation of Dataset 1: {std_dev_1:.2f}\")\n",
        "print(f\"Standard Deviation of Dataset 2: {std_dev_2:.2f}\")\n",
        "\n",
        "# Compare the two standard deviations\n",
        "if std_dev_1 > std_dev_2:\n",
        "    print(\"Dataset 1 has more variability (larger spread).\")\n",
        "elif std_dev_1 < std_dev_2:\n",
        "    print(\"Dataset 2 has more variability (larger spread).\")\n",
        "else:\n",
        "    print(\"Both datasets have similar variability.\")\n"
      ],
      "metadata": {
        "colab": {
          "base_uri": "https://localhost:8080/"
        },
        "id": "2kdvkfScuGWI",
        "outputId": "5fb344cf-a760-45b5-b667-6c01f1e23146"
      },
      "execution_count": 22,
      "outputs": [
        {
          "output_type": "stream",
          "name": "stdout",
          "text": [
            "Standard Deviation of Dataset 1: 10.23\n",
            "Standard Deviation of Dataset 2: 19.93\n",
            "Dataset 2 has more variability (larger spread).\n"
          ]
        }
      ]
    },
    {
      "cell_type": "markdown",
      "source": [
        "#20.  Write a Python program to visualize covariance using a heatmap"
      ],
      "metadata": {
        "id": "H81jrq1fuk1A"
      }
    },
    {
      "cell_type": "code",
      "source": [
        "import numpy as np\n",
        "import pandas as pd\n",
        "import seaborn as sns\n",
        "import matplotlib.pyplot as plt\n",
        "\n",
        "# Example data (simulating some datasets)\n",
        "np.random.seed(42)\n",
        "data = pd.DataFrame({\n",
        "    'Variable 1': np.random.normal(50, 10, 1000),\n",
        "    'Variable 2': np.random.normal(60, 15, 1000),\n",
        "    'Variable 3': np.random.normal(70, 20, 1000)\n",
        "})\n",
        "\n",
        "# Calculate the covariance matrix\n",
        "cov_matrix = data.cov()\n",
        "\n",
        "# Plotting the heatmap\n",
        "plt.figure(figsize=(8, 6))\n",
        "sns.heatmap(cov_matrix, annot=True, cmap='coolwarm', fmt='.2f', cbar=True)\n",
        "\n",
        "# Adding titles and labels\n",
        "plt.title(\"Covariance Heatmap\", fontsize=16)\n",
        "plt.show()\n"
      ],
      "metadata": {
        "colab": {
          "base_uri": "https://localhost:8080/",
          "height": 547
        },
        "id": "y-BOTtLbuh_D",
        "outputId": "7f5bf64b-7f3b-4db6-d1d0-0d3c21304203"
      },
      "execution_count": 23,
      "outputs": [
        {
          "output_type": "display_data",
          "data": {
            "text/plain": [
              "<Figure size 800x600 with 2 Axes>"
            ],
            "image/png": "[encoded data removed]"
          },
          "metadata": {}
        }
      ]
    },
    {
      "cell_type": "markdown",
      "source": [
        "#21.  Use seaborn to create a correlation matrix for a dataset"
      ],
      "metadata": {
        "id": "FLEDu9fauxdB"
      }
    },
    {
      "cell_type": "code",
      "source": [
        "import numpy as np\n",
        "import pandas as pd\n",
        "import seaborn as sns\n",
        "import matplotlib.pyplot as plt\n",
        "\n",
        "# Example data (simulating some datasets)\n",
        "np.random.seed(42)\n",
        "data = pd.DataFrame({\n",
        "    'Variable 1': np.random.normal(50, 10, 1000),\n",
        "    'Variable 2': np.random.normal(60, 15, 1000),\n",
        "    'Variable 3': np.random.normal(70, 20, 1000)\n",
        "})\n",
        "\n",
        "# Calculate the correlation matrix\n",
        "correlation_matrix = data.corr()\n",
        "\n",
        "# Plotting the heatmap\n",
        "plt.figure(figsize=(8, 6))\n",
        "sns.heatmap(correlation_matrix, annot=True, cmap='coolwarm', fmt='.2f', cbar=True)\n",
        "\n",
        "# Adding titles and labels\n",
        "plt.title(\"Correlation Matrix Heatmap\", fontsize=16)\n",
        "plt.show()\n"
      ],
      "metadata": {
        "colab": {
          "base_uri": "https://localhost:8080/",
          "height": 547
        },
        "id": "RLcP_7-3ussw",
        "outputId": "dae5c89e-6d08-46eb-9e52-f1574c771be0"
      },
      "execution_count": 24,
      "outputs": [
        {
          "output_type": "display_data",
          "data": {
            "text/plain": [
              "<Figure size 800x600 with 2 Axes>"
            ],
            "image/png": "[encoded data removed]"
          },
          "metadata": {}
        }
      ]
    },
    {
      "cell_type": "markdown",
      "source": [
        "#22.  Generate a dataset and implement both variance and standard deviation computations"
      ],
      "metadata": {
        "id": "fPKaauBHu7V_"
      }
    },
    {
      "cell_type": "code",
      "source": [
        "import numpy as np\n",
        "\n",
        "# Generate a synthetic dataset (1000 data points, mean=50, std=10)\n",
        "data = np.random.normal(50, 10, 1000)\n",
        "\n",
        "# Compute the variance (using np.var())\n",
        "variance = np.var(data)\n",
        "\n",
        "# Compute the standard deviation (using np.std())\n",
        "std_dev = np.std(data)\n",
        "\n",
        "# Output the results\n",
        "print(f\"Variance of the dataset: {variance:.2f}\")\n",
        "print(f\"Standard Deviation of the dataset: {std_dev:.2f}\")\n"
      ],
      "metadata": {
        "colab": {
          "base_uri": "https://localhost:8080/"
        },
        "id": "YyPXeqITu3aO",
        "outputId": "70fb49de-ac42-404c-e132-2f58d454d07b"
      },
      "execution_count": 25,
      "outputs": [
        {
          "output_type": "stream",
          "name": "stdout",
          "text": [
            "Variance of the dataset: 105.39\n",
            "Standard Deviation of the dataset: 10.27\n"
          ]
        }
      ]
    },
    {
      "cell_type": "markdown",
      "source": [
        "#23. Visualize skewness and kurtosis using Python libraries like matplotlib or seaborn\n"
      ],
      "metadata": {
        "id": "xxnTyBEdvaoG"
      }
    },
    {
      "cell_type": "code",
      "source": [
        "import numpy as np\n",
        "import seaborn as sns\n",
        "import matplotlib.pyplot as plt\n",
        "from scipy.stats import skew, kurtosis\n",
        "\n",
        "# Generate a dataset with skewness and kurtosis\n",
        "np.random.seed(42)\n",
        "data_skewed = np.random.exponential(scale=2, size=1000)  # Positively skewed data\n",
        "data_normal = np.random.normal(loc=0, scale=1, size=1000)  # Normally distributed data\n",
        "\n",
        "# Calculate skewness and kurtosis\n",
        "skewness_skewed = skew(data_skewed)\n",
        "kurtosis_skewed = kurtosis(data_skewed)\n",
        "\n",
        "skewness_normal = skew(data_normal)\n",
        "kurtosis_normal = kurtosis(data_normal)\n",
        "\n",
        "# Set up the matplotlib figure\n",
        "plt.figure(figsize=(12, 8))\n",
        "\n",
        "# Plotting histogram and boxplot for skewed data\n",
        "plt.subplot(2, 2, 1)\n",
        "sns.histplot(data_skewed, kde=True, color='skyblue')\n",
        "plt.title(f\"Positively Skewed Data\\nSkewness: {skewness_skewed:.2f}, Kurtosis: {kurtosis_skewed:.2f}\")\n",
        "\n",
        "plt.subplot(2, 2, 2)\n",
        "sns.boxplot(data=data_skewed, color='skyblue')\n",
        "plt.title(\"Boxplot - Positively Skewed\")\n",
        "\n",
        "# Plotting histogram and boxplot for normal data\n",
        "plt.subplot(2, 2, 3)\n",
        "sns.histplot(data_normal, kde=True, color='salmon')\n",
        "plt.title(f\"Normally Distributed Data\\nSkewness: {skewness_normal:.2f}, Kurtosis: {kurtosis_normal:.2f}\")\n",
        "\n",
        "plt.subplot(2, 2, 4)\n",
        "sns.boxplot(data=data_normal, color='salmon')\n",
        "plt.title(\"Boxplot - Normal Distribution\")\n",
        "\n",
        "# Show plots\n",
        "plt.tight_layout()\n",
        "plt.show()\n"
      ],
      "metadata": {
        "colab": {
          "base_uri": "https://localhost:8080/",
          "height": 748
        },
        "id": "DmVubj5lvCK9",
        "outputId": "65427fc7-4eed-4ffd-d32c-847329bdaaf2"
      },
      "execution_count": 26,
      "outputs": [
        {
          "output_type": "display_data",
          "data": {
            "text/plain": [
              "<Figure size 1200x800 with 4 Axes>"
            ],
            "image/png": "[encoded data removed]"
          },
          "metadata": {}
        }
      ]
    },
    {
      "cell_type": "markdown",
      "source": [
        "#24.  Implement the Pearson and Spearman correlation coefficients for a dataset."
      ],
      "metadata": {
        "id": "Hn0Ox1KTv5AV"
      }
    },
    {
      "cell_type": "code",
      "source": [
        "import numpy as np\n",
        "import pandas as pd\n",
        "from scipy.stats import pearsonr, spearmanr\n",
        "\n",
        "# Generate sample data\n",
        "np.random.seed(42)\n",
        "data = pd.DataFrame({\n",
        "    'X': np.random.normal(0, 1, 1000),  # Normally distributed data for X\n",
        "    'Y': np.random.normal(0, 1, 1000)   # Normally distributed data for Y\n",
        "})\n",
        "\n",
        "# Add a linear relationship for Pearson (X and Y)\n",
        "data['Y'] = data['X'] * 2 + np.random.normal(0, 0.5, 1000)  # Y = 2*X + noise\n",
        "\n",
        "# Pearson correlation\n",
        "pearson_corr, _ = pearsonr(data['X'], data['Y'])\n",
        "print(f\"Pearson correlation coefficient: {pearson_corr:.2f}\")\n",
        "\n",
        "# Spearman correlation\n",
        "spearman_corr, _ = spearmanr(data['X'], data['Y'])\n",
        "print(f\"Spearman correlation coefficient: {spearman_corr:.2f}\")\n"
      ],
      "metadata": {
        "colab": {
          "base_uri": "https://localhost:8080/"
        },
        "id": "f9YkRqGWvzCT",
        "outputId": "d87de376-2e9e-489c-a089-45f649b1a168"
      },
      "execution_count": 27,
      "outputs": [
        {
          "output_type": "stream",
          "name": "stdout",
          "text": [
            "Pearson correlation coefficient: 0.97\n",
            "Spearman correlation coefficient: 0.97\n"
          ]
        }
      ]
    },
    {
      "cell_type": "code",
      "source": [],
      "metadata": {
        "id": "bFpWpSbqv__o"
      },
      "execution_count": null,
      "outputs": []
    }
  ]
}